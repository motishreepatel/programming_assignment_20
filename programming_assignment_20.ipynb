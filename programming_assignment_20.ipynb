{
 "cells": [
  {
   "cell_type": "code",
   "execution_count": 1,
   "metadata": {},
   "outputs": [
    {
     "name": "stdout",
     "output_type": "stream",
     "text": [
      "[1, 2, 3, 4]\n"
     ]
    }
   ],
   "source": [
    "#Q - #Question1: Create a function that takes a list of strings and integers, and filters out the list so that it returns a list of integers only.\n",
    "#Answer:\n",
    "def filter_integers(lst):\n",
    "    integer_list = [x for x in lst if isinstance(x, int)]\n",
    "    return integer_list\n",
    "\n",
    "mixed_list = [1,2,3,'a','b',4]\n",
    "filtered_list = filter_integers(mixed_list)\n",
    "print(filtered_list)\n"
   ]
  },
  {
   "cell_type": "code",
   "execution_count": 2,
   "metadata": {},
   "outputs": [
    {
     "name": "stdout",
     "output_type": "stream",
     "text": [
      "[1, 3, 5, 7, 9]\n"
     ]
    }
   ],
   "source": [
    "#Question3: \n",
    "'''Given a list of numbers, create a function which returns the list but with each element&#39;s\n",
    "index in the list added to itself. This means you add 0 to the number at index 0, add 1 to the\n",
    "number at index 1, etc...'''  \n",
    "#Answer:\n",
    "def add_index_to_elements(lst):\n",
    "    result = [num + index for index, num in enumerate(lst)]\n",
    "    return result\n",
    "\n",
    "numbers = [1,2,3,4,5]\n",
    "result = add_index_to_elements(numbers)\n",
    "print(result)\n",
    "\n"
   ]
  },
  {
   "cell_type": "code",
   "execution_count": 3,
   "metadata": {},
   "outputs": [
    {
     "name": "stdout",
     "output_type": "stream",
     "text": [
      "The volume of the cone is approximately 12.57 cubic units.\n"
     ]
    }
   ],
   "source": [
    "#Q - QUESTION3 \n",
    "'''Create a function that takes the height and radius of a cone as arguments and returns the\n",
    "volume of the cone rounded to the nearest hundredth. See the resources tab for the formula.'''  \n",
    "\n",
    "#aNSWER:\n",
    "import math\n",
    "\n",
    "def calculate_cone_volume(height, radius):\n",
    "    volume = (math.pi * radius**2 * height) / 3\n",
    "    rounded_volume = round(volume, 2)\n",
    "    return rounded_volume\n",
    "\n",
    "cone_height = 3\n",
    "cone_radius = 2\n",
    "volume = calculate_cone_volume(cone_height, cone_radius)\n",
    "print(f\"The volume of the cone is approximately {volume} cubic units.\")\n"
   ]
  },
  {
   "cell_type": "code",
   "execution_count": 4,
   "metadata": {},
   "outputs": [
    {
     "name": "stdout",
     "output_type": "stream",
     "text": [
      "The number of dots at position 6 is 21.\n"
     ]
    }
   ],
   "source": [
    "#Q - QUESTION4 - \n",
    "'''This Triangular Number Sequence is generated from a pattern of dots that form a triangle.\n",
    "The first 5 numbers of the sequence, or dots, are:\n",
    "1, 3, 6, 10, 15\n",
    "This means that the first triangle has just one dot, the second one has three dots, the third one\n",
    "has 6 dots and so on.\n",
    "Write a function that gives the number of dots with its corresponding triangle number of the\n",
    "sequence.'''  \n",
    "\n",
    "#Answer:\n",
    "def calculate_triangular_number(position):\n",
    "    if position <= 0:\n",
    "        return 0\n",
    "    else:\n",
    "        return (position * (position + 1)) // 2\n",
    "position = 6\n",
    "dots = calculate_triangular_number(position)\n",
    "print(f\"The number of dots at position {position} is {dots}.\")\n",
    "\n"
   ]
  },
  {
   "cell_type": "code",
   "execution_count": 5,
   "metadata": {},
   "outputs": [
    {
     "name": "stdout",
     "output_type": "stream",
     "text": [
      "The missing number is 6.\n"
     ]
    }
   ],
   "source": [
    "#Q - Question5 - \n",
    "# Create a function that takes a list of numbers between 1 and 10 (excluding one number) and returns the missing number.\n",
    "#Answer:\n",
    "def find_missing_number(numbers):\n",
    "    all_numbers = set(range(1, 11))\n",
    "    given_numbers = set(numbers)\n",
    "    missing_number = all_numbers - given_numbers\n",
    "    return missing_number.pop()\n",
    "\n",
    "number_list = [1, 2, 3, 4, 5, 7, 8, 9, 10]\n",
    "missing_number = find_missing_number(number_list)\n",
    "print(f\"The missing number is {missing_number}.\")\n",
    "\n"
   ]
  },
  {
   "cell_type": "code",
   "execution_count": null,
   "metadata": {},
   "outputs": [],
   "source": []
  }
 ],
 "metadata": {
  "kernelspec": {
   "display_name": "Python 3.9.6 64-bit",
   "language": "python",
   "name": "python3"
  },
  "language_info": {
   "codemirror_mode": {
    "name": "ipython",
    "version": 3
   },
   "file_extension": ".py",
   "mimetype": "text/x-python",
   "name": "python",
   "nbconvert_exporter": "python",
   "pygments_lexer": "ipython3",
   "version": "3.9.6"
  },
  "orig_nbformat": 4,
  "vscode": {
   "interpreter": {
    "hash": "31f2aee4e71d21fbe5cf8b01ff0e069b9275f58929596ceb00d14d90e3e16cd6"
   }
  }
 },
 "nbformat": 4,
 "nbformat_minor": 2
}
